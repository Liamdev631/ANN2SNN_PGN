{
 "cells": [
  {
   "cell_type": "code",
   "execution_count": 1,
   "metadata": {},
   "outputs": [
    {
     "name": "stderr",
     "output_type": "stream",
     "text": [
      "2024-07-23 12:17:47.065808: I tensorflow/core/util/port.cc:113] oneDNN custom operations are on. You may see slightly different numerical results due to floating-point round-off errors from different computation orders. To turn them off, set the environment variable `TF_ENABLE_ONEDNN_OPTS=0`.\n",
      "2024-07-23 12:17:47.075666: E external/local_xla/xla/stream_executor/cuda/cuda_fft.cc:479] Unable to register cuFFT factory: Attempting to register factory for plugin cuFFT when one has already been registered\n",
      "2024-07-23 12:17:47.089664: E external/local_xla/xla/stream_executor/cuda/cuda_dnn.cc:10575] Unable to register cuDNN factory: Attempting to register factory for plugin cuDNN when one has already been registered\n",
      "2024-07-23 12:17:47.089695: E external/local_xla/xla/stream_executor/cuda/cuda_blas.cc:1442] Unable to register cuBLAS factory: Attempting to register factory for plugin cuBLAS when one has already been registered\n",
      "2024-07-23 12:17:47.099165: I tensorflow/core/platform/cpu_feature_guard.cc:210] This TensorFlow binary is optimized to use available CPU instructions in performance-critical operations.\n",
      "To enable the following instructions: AVX2 AVX_VNNI FMA, in other operations, rebuild TensorFlow with the appropriate compiler flags.\n",
      "2024-07-23 12:17:47.675327: W tensorflow/compiler/tf2tensorrt/utils/py_utils.cc:38] TF-TRT Warning: Could not find TensorRT\n"
     ]
    },
    {
     "name": "stdout",
     "output_type": "stream",
     "text": [
      "Files already downloaded and verified\n",
      "Files already downloaded and verified\n",
      "eval model: vgg16, dataset: cifar10\n"
     ]
    },
    {
     "name": "stderr",
     "output_type": "stream",
     "text": [
      "100%|██████████| 79/79 [00:02<00:00, 34.54it/s]\n"
     ]
    },
    {
     "name": "stdout",
     "output_type": "stream",
     "text": [
      "ann acc: 0.9404\n"
     ]
    },
    {
     "name": "stderr",
     "output_type": "stream",
     "text": [
      "100%|██████████| 79/79 [00:21<00:00,  3.65it/s]\n"
     ]
    },
    {
     "name": "stdout",
     "output_type": "stream",
     "text": [
      "if acc: [0.4344 0.783  0.8481 0.8801 0.8954 0.9058 0.9138 0.9206 0.9234 0.9276\n",
      " 0.929  0.9308 0.9325 0.9328 0.9339 0.9344]\n"
     ]
    },
    {
     "name": "stderr",
     "output_type": "stream",
     "text": [
      "100%|██████████| 79/79 [01:08<00:00,  1.15it/s]\n"
     ]
    },
    {
     "name": "stdout",
     "output_type": "stream",
     "text": [
      "gn acc: [0.1 0.1 0.1 0.1 0.1 0.1 0.1 0.1 0.1 0.1 0.1 0.1 0.1 0.1 0.1 0.1]\n"
     ]
    },
    {
     "name": "stderr",
     "output_type": "stream",
     "text": [
      "100%|██████████| 79/79 [00:57<00:00,  1.37it/s]\n"
     ]
    },
    {
     "name": "stdout",
     "output_type": "stream",
     "text": [
      "pgn acc: [0.9388 0.9398 0.9397 0.9406 0.9403 0.9406 0.9405 0.9405 0.9407 0.9405\n",
      " 0.9403 0.9402 0.9404 0.9404 0.9407 0.9404]\n",
      "eval model: resnet20, dataset: cifar10\n"
     ]
    },
    {
     "name": "stderr",
     "output_type": "stream",
     "text": [
      "100%|██████████| 79/79 [00:01<00:00, 64.30it/s]\n"
     ]
    },
    {
     "name": "stdout",
     "output_type": "stream",
     "text": [
      "ann acc: 0.92\n"
     ]
    },
    {
     "name": "stderr",
     "output_type": "stream",
     "text": [
      " 92%|█████████▏| 73/79 [00:08<00:00,  8.56it/s]\n"
     ]
    },
    {
     "ename": "KeyboardInterrupt",
     "evalue": "",
     "output_type": "error",
     "traceback": [
      "\u001b[0;31m---------------------------------------------------------------------------\u001b[0m",
      "\u001b[0;31mKeyboardInterrupt\u001b[0m                         Traceback (most recent call last)",
      "Cell \u001b[0;32mIn[1], line 40\u001b[0m\n\u001b[1;32m     38\u001b[0m \tmodel \u001b[38;5;241m=\u001b[39m replace_qcfs_with_sn(model, members\u001b[38;5;241m=\u001b[39mtau, sn_type\u001b[38;5;241m=\u001b[39mneuron_model)\n\u001b[1;32m     39\u001b[0m \tmodel\u001b[38;5;241m.\u001b[39mto(device)\n\u001b[0;32m---> 40\u001b[0m \tacc, loss \u001b[38;5;241m=\u001b[39m \u001b[43meval_snn\u001b[49m\u001b[43m(\u001b[49m\u001b[43mtest\u001b[49m\u001b[43m,\u001b[49m\u001b[43m \u001b[49m\u001b[43mmodel\u001b[49m\u001b[43m,\u001b[49m\u001b[43m \u001b[49m\u001b[43mcriterion\u001b[49m\u001b[43m,\u001b[49m\u001b[43m \u001b[49m\u001b[43mdevice\u001b[49m\u001b[43m,\u001b[49m\u001b[43m \u001b[49m\u001b[43mt\u001b[49m\u001b[43m)\u001b[49m\n\u001b[1;32m     42\u001b[0m acc_results[key] \u001b[38;5;241m=\u001b[39m acc\n\u001b[1;32m     43\u001b[0m loss_results[key] \u001b[38;5;241m=\u001b[39m loss\n",
      "File \u001b[0;32m~/code/ANN2SNN_PGN/funcs.py:171\u001b[0m, in \u001b[0;36meval_snn\u001b[0;34m(test_dataloader, model, loss_fn, device, sim_len, rank)\u001b[0m\n\u001b[1;32m    169\u001b[0m spikes \u001b[38;5;241m=\u001b[39m \u001b[38;5;241m0\u001b[39m\n\u001b[1;32m    170\u001b[0m length \u001b[38;5;241m+\u001b[39m\u001b[38;5;241m=\u001b[39m \u001b[38;5;28mlen\u001b[39m(label)\n\u001b[0;32m--> 171\u001b[0m img \u001b[38;5;241m=\u001b[39m \u001b[43mimg\u001b[49m\u001b[38;5;241;43m.\u001b[39;49m\u001b[43mcuda\u001b[49m\u001b[43m(\u001b[49m\u001b[43m)\u001b[49m\n\u001b[1;32m    172\u001b[0m label \u001b[38;5;241m=\u001b[39m label\u001b[38;5;241m.\u001b[39mcuda()\n\u001b[1;32m    173\u001b[0m \u001b[38;5;28;01mfor\u001b[39;00m t \u001b[38;5;129;01min\u001b[39;00m \u001b[38;5;28mrange\u001b[39m(sim_len):\n",
      "\u001b[0;31mKeyboardInterrupt\u001b[0m: "
     ]
    }
   ],
   "source": [
    "import torch\n",
    "import torch.nn as nn\n",
    "from funcs import *\n",
    "from Models import modelpool\n",
    "from Preprocess import datapool\n",
    "\n",
    "bs = 128\n",
    "l = 8\n",
    "t = l * 2\n",
    "tau = 6\n",
    "device =\"cuda\" if torch.cuda.is_available() else \"cpu\"\n",
    "\n",
    "list_data = [\"cifar10\", \"cifar100\"]\n",
    "list_models = [\"vgg16\", \"resnet20\"]\n",
    "list_neuron_models = [\"ann\", \"if\", \"gn\", \"pgn\"]\n",
    "acc_results: dict[str, float] = { }\n",
    "loss_results: dict[str, float] = { }\n",
    "\n",
    "for data_name in list_data:\n",
    "\t# Initialize data\n",
    "\ttrain, test = datapool(data_name, bs)\n",
    "\tfor model_name in list_models:\n",
    "\t\tprint(f'eval model: {model_name}, dataset: {data_name}')\n",
    "\t\tfor neuron_model in list_neuron_models:\n",
    "\t\t\tkey = f'[{data_name}_{model_name}_{neuron_model}'\n",
    "\n",
    "\t\t\t# Initialize model\n",
    "\t\t\tmodel = modelpool(model_name, data_name)\n",
    "\t\t\tmodel = replace_maxpool2d_with_avgpool2d(model)\n",
    "\t\t\tmodel = replace_relu_with_qcfs(model, L=l)\n",
    "\t\t\tmodel.load_state_dict(torch.load(f'./saved_models/{model_name}-{data_name}.pth'))\n",
    "\t\t\tcriterion = nn.CrossEntropyLoss()\n",
    "\t\t\t\n",
    "\t\t\tif neuron_model == \"ann\":\n",
    "\t\t\t\tmodel.to(device)\n",
    "\t\t\t\tacc, loss = eval_ann(test, model, criterion, device)\n",
    "\t\t\telse:\n",
    "\t\t\t\tmodel = replace_qcfs_with_sn(model, members=tau, sn_type=neuron_model)\n",
    "\t\t\t\tmodel.to(device)\n",
    "\t\t\t\tacc, loss = eval_snn(test, model, criterion, device, t)\n",
    "\t\t\t\t\n",
    "\t\t\tacc_results[key] = acc\n",
    "\t\t\tloss_results[key] = loss\n",
    "\t\t\tprint(f'{neuron_model} acc: {acc}')"
   ]
  },
  {
   "cell_type": "code",
   "execution_count": null,
   "metadata": {},
   "outputs": [],
   "source": [
    "for results in [acc_results, loss_results]:\n",
    "    for key in results.keys():\n",
    "    \tprint(f'{key}: {results[key]}')"
   ]
  },
  {
   "cell_type": "code",
   "execution_count": null,
   "metadata": {},
   "outputs": [],
   "source": [
    "import matplotlib.pyplot as plt\n",
    "for data_name in list_data:\n",
    "\tfor model_name in list_models:\n",
    "\t\tplt.figure()\n",
    "\t\tplt.title(data_name + \", \" + model_name)\n",
    "\t\tfor i, neuron_model in enumerate(list_neuron_models):\n",
    "\t\t\tkey = f'[{data_name}_{model_name}_{neuron_model}'\n",
    "\t\t\tacc = acc_results[key]\n",
    "\t\t\tprint(neuron_model, type(acc))\n",
    "\t\t\tif acc is np.float64:\n",
    "\t\t\t\tplt.hlines(y=acc, xmin=0, xmax=t, label=neuron_model, color=f\"C{i}\")\n",
    "\t\t\telse:\n",
    "\t\t\t\tplt.plot(acc, label=neuron_model, color=f\"C{i}\")\n",
    "\t\tplt.legend()"
   ]
  }
 ],
 "metadata": {
  "kernelspec": {
   "display_name": "torchenv",
   "language": "python",
   "name": "python3"
  },
  "language_info": {
   "codemirror_mode": {
    "name": "ipython",
    "version": 3
   },
   "file_extension": ".py",
   "mimetype": "text/x-python",
   "name": "python",
   "nbconvert_exporter": "python",
   "pygments_lexer": "ipython3",
   "version": "3.11.8"
  }
 },
 "nbformat": 4,
 "nbformat_minor": 2
}
